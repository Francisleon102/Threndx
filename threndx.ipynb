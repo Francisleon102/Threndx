{
 "cells": [
  {
   "cell_type": "code",
   "execution_count": 9,
   "metadata": {},
   "outputs": [],
   "source": [
    "import numpy as np\n",
    "#import incoming as inc\n",
    "import matplotlib.pyplot as plt, os\n",
    "import pandas as pd\n",
    "import numba as nb\n",
    "import dask as dk\n",
    "import alpaca_trade_api as tradeapi\n",
    "from torch import nn\n"
   ]
  },
  {
   "cell_type": "code",
   "execution_count": 10,
   "metadata": {},
   "outputs": [],
   "source": [
    "\n",
    "API_KEY = \"PKYBD9IQOMHV4NNNANLC\"\n",
    "API_SECRET = \"Vn5NJazAldHMKxs9Q8byj453AzhPogPxCHPdtoJK\"\n",
    "from alpaca.trading.client import TradingClient\n",
    "from alpaca.trading.requests import GetAssetsRequest\n",
    "trading_client = TradingClient(API_KEY, API_SECRET)\n",
    "\n"
   ]
  },
  {
   "cell_type": "code",
   "execution_count": 11,
   "metadata": {},
   "outputs": [],
   "source": [
    "\n",
    "#Data Sources\n",
    "api = tradeapi.REST(API_KEY, API_SECRET, base_url='https://data.alpaca.markets/v2')\n",
    "hist1 = \"/home/leon/Desktop/Datasets/aapl.csv\"\n"
   ]
  },
  {
   "cell_type": "code",
   "execution_count": 12,
   "metadata": {},
   "outputs": [
    {
     "name": "stdout",
     "output_type": "stream",
     "text": [
      "Filepath is valid.\n"
     ]
    }
   ],
   "source": [
    "# Load the data and check if filepathss are valid. \n",
    "\n",
    "if os.path.exists(hist1):\n",
    "    print(\"Filepath is valid.\")\n",
    "else:\n",
    "    print(\"Filepath is invalid.\")\n",
    "\n"
   ]
  },
  {
   "cell_type": "code",
   "execution_count": 13,
   "metadata": {},
   "outputs": [
    {
     "name": "stderr",
     "output_type": "stream",
     "text": [
      "/tmp/ipykernel_143357/2343168697.py:1: DtypeWarning: Columns (9,10,11,12,13,16,18,19,21,22,24,25,26,27,28,29) have mixed types. Specify dtype option on import or set low_memory=False.\n",
      "  apple = pd.read_csv(hist1)\n"
     ]
    }
   ],
   "source": [
    "apple = pd.read_csv(hist1)\n"
   ]
  },
  {
   "cell_type": "code",
   "execution_count": null,
   "metadata": {},
   "outputs": [
    {
     "name": "stdout",
     "output_type": "stream",
     "text": [
      "                            close    high     low  trade_count    open  \\\n",
      "timestamp                                                                \n",
      "2023-01-03 09:00:00+00:00  131.00  131.00  130.28          208  130.28   \n",
      "2023-01-03 09:01:00+00:00  131.10  131.17  130.87          157  130.87   \n",
      "2023-01-03 09:02:00+00:00  131.17  131.24  131.17           53  131.18   \n",
      "2023-01-03 09:03:00+00:00  131.28  131.29  131.19           90  131.19   \n",
      "2023-01-03 09:04:00+00:00  131.46  131.46  131.28           88  131.28   \n",
      "...                           ...     ...     ...          ...     ...   \n",
      "2023-01-04 12:02:00+00:00  125.97  126.06  125.97          203  126.06   \n",
      "2023-01-04 12:03:00+00:00  125.90  125.90  125.90           68  125.90   \n",
      "2023-01-04 12:04:00+00:00  125.95  126.00  125.89           97  125.90   \n",
      "2023-01-04 12:05:00+00:00  125.93  126.00  125.93           34  126.00   \n",
      "2023-01-04 12:06:00+00:00  126.00  126.00  125.92          113  125.93   \n",
      "\n",
      "                           volume        vwap  \n",
      "timestamp                                      \n",
      "2023-01-03 09:00:00+00:00    8174  130.880173  \n",
      "2023-01-03 09:01:00+00:00    8820  130.931663  \n",
      "2023-01-03 09:02:00+00:00    2112  131.226125  \n",
      "2023-01-03 09:03:00+00:00    3888  131.238940  \n",
      "2023-01-03 09:04:00+00:00    5984  131.317398  \n",
      "...                           ...         ...  \n",
      "2023-01-04 12:02:00+00:00    6832  126.017488  \n",
      "2023-01-04 12:03:00+00:00    1368  125.900000  \n",
      "2023-01-04 12:04:00+00:00    6085  125.953121  \n",
      "2023-01-04 12:05:00+00:00    1661  125.944232  \n",
      "2023-01-04 12:06:00+00:00    3686  125.973060  \n",
      "\n",
      "[1000 rows x 7 columns]\n"
     ]
    }
   ],
   "source": [
    "import asyncio \n",
    "class StockData:\n",
    "    def __init__(self, symbol, timeframe, start_date, end_date, limit):\n",
    "        self.symbol = symbol\n",
    "        self.timeframe = timeframe\n",
    "        self.start_date = start_date\n",
    "        self.end_date = end_date\n",
    "        self.limit = limit\n",
    "\n",
    "    def incoming(self):\n",
    "        # Assuming `api` is already initialized before calling this function\n",
    "        bars = api.get_bars(\n",
    "            self.symbol, \n",
    "            timeframe=self.timeframe, \n",
    "            start=self.start_date, \n",
    "            end=self.end_date, \n",
    "            limit=self.limit\n",
    "        ).df\n",
    "        return bars\n",
    "    \n",
    "    \n",
    "\n",
    "# Creating an object with specific stock parameters\n",
    "barobj = StockData(\"AAPL\", \"1Min\", \"2023-01-01\", \"2024-01-10\", 1000)\n",
    "\n",
    "# Fetching data\n",
    "data = barobj.incoming()\n",
    "print(data)\n",
    "\n",
    "\n",
    "\n"
   ]
  },
  {
   "cell_type": "code",
   "execution_count": null,
   "metadata": {},
   "outputs": [],
   "source": []
  }
 ],
 "metadata": {
  "kernelspec": {
   "display_name": "rapids",
   "language": "python",
   "name": "python3"
  },
  "language_info": {
   "codemirror_mode": {
    "name": "ipython",
    "version": 3
   },
   "file_extension": ".py",
   "mimetype": "text/x-python",
   "name": "python",
   "nbconvert_exporter": "python",
   "pygments_lexer": "ipython3",
   "version": "3.12.8"
  }
 },
 "nbformat": 4,
 "nbformat_minor": 2
}
